{
 "cells": [
  {
   "attachments": {},
   "cell_type": "markdown",
   "metadata": {},
   "source": [
    "- Abra o arquivo \"dados/a_luta_carmen_dolores_trecho.txt\" em modo leitura\n"
   ]
  },
  {
   "cell_type": "code",
   "execution_count": 5,
   "metadata": {},
   "outputs": [],
   "source": [
    "conto = open('../../dados/a_luta_carmen_dolores_trecho.txt', mode='r')\n",
    "\n",
    "conto.close()"
   ]
  },
  {
   "attachments": {},
   "cell_type": "markdown",
   "metadata": {},
   "source": [
    "- Abra o arquivo \"dados/a_luta_carmen_dolores_trecho.txt\" em modo leitura usando a palavra reservada \"with\"\n"
   ]
  },
  {
   "cell_type": "code",
   "execution_count": 15,
   "metadata": {},
   "outputs": [],
   "source": [
    "with open('../../dados/a_luta_carmen_dolores_trecho.txt', mode='r') as leitura:\n",
    "    linhas = leitura.readlines()\n",
    "  "
   ]
  },
  {
   "attachments": {},
   "cell_type": "markdown",
   "metadata": {},
   "source": [
    "- Crie uma lista com as linhas do arquivo e imprima na tela\n"
   ]
  },
  {
   "cell_type": "code",
   "execution_count": null,
   "metadata": {},
   "outputs": [
    {
     "name": "stdout",
     "output_type": "stream",
     "text": [
      "['TÃ\\xadtulo: A Luta\\n', 'Autora: Carmen Dolores\\n', 'Ano: 1909\\n', '\\n', 'Dentro, a sala de jantar resplandecia Ã\\xa0 larga claridade de trÃªs janelas e uma porta\\n', 'abrindo para o jardim, que circulava a casa e onde zumbiam abelhas sobre os cÃ¡lices de\\n', 'lÃ\\xadrios, banhados de sol; e a cidade aparecia num plano inferior de silÃªncio e de distÃ¢ncia,\\n', 'atravÃ©s de um vapor trÃªmulo e azulado que varava aqui ou ali o reflexo de incÃªndio de alguma clarabÃ³ia ferida \\n', 'por um raio de luz mais direto.\\n', '\\n', 'A mesa, recoberta pela toalha de linho dos grandes dias, tinha o aspecto convidativo,\\n', 'com os seus pratos de sandwiches, pastÃ©is e empadinhas flanqueados pelas garrafas de cristal, \\n', 'em que brilhava um vinho aparentemente fino;\\n', \"pirÃ¢mides de fios d'ovos e compoteiras de doces feitos em casa alternavam com as fruteiras em que enrubesciam maÃ§Ã£s junto aos\\n\", 'cachos de uvas, decorativamente espalhados - e toda uma profusÃ£o de flores em altos ramos circunscrevia a vista.\\n', '\\n', '[trecho da obra original]\\n', '\\n', 'Ãšltima linha.\\n', '\\n', '[trecho da obra original]']\n"
     ]
    }
   ],
   "source": [
    "lista_linhas = []\n",
    "\n",
    "for linha in linhas:\n",
    "    lista_linhas.append(linha)\n",
    "\n",
    "\n",
    "\n",
    "print(lista_linhas)\n"
   ]
  },
  {
   "attachments": {},
   "cell_type": "markdown",
   "metadata": {},
   "source": [
    "- Crie um for loop para ler cada item da lista e retirar as quebras de linha\n"
   ]
  },
  {
   "cell_type": "code",
   "execution_count": 20,
   "metadata": {},
   "outputs": [
    {
     "ename": "NameError",
     "evalue": "name 'linha_listas' is not defined",
     "output_type": "error",
     "traceback": [
      "\u001b[31m---------------------------------------------------------------------------\u001b[39m",
      "\u001b[31mNameError\u001b[39m                                 Traceback (most recent call last)",
      "\u001b[36mCell\u001b[39m\u001b[36m \u001b[39m\u001b[32mIn[20]\u001b[39m\u001b[32m, line 6\u001b[39m\n\u001b[32m      2\u001b[39m     linhas = leitura.readlines()\n\u001b[32m      5\u001b[39m \u001b[38;5;28;01mfor\u001b[39;00m linha \u001b[38;5;129;01min\u001b[39;00m lista_linhas:\n\u001b[32m----> \u001b[39m\u001b[32m6\u001b[39m     \u001b[38;5;28;01mif\u001b[39;00m \u001b[43mlinha_listas\u001b[49m == \u001b[33m\"\u001b[39m\u001b[38;5;130;01m\\n\u001b[39;00m\u001b[33m\"\u001b[39m:\n\u001b[32m      7\u001b[39m         linha_lista.remove()\n\u001b[32m      9\u001b[39m \u001b[38;5;28mprint\u001b[39m(lista_linhas)\n",
      "\u001b[31mNameError\u001b[39m: name 'linha_listas' is not defined"
     ]
    }
   ],
   "source": [
    "with open('../../dados/a_luta_carmen_dolores_trecho.txt', mode='r') as leitura:\n",
    "    linhas = leitura.readlines()\n",
    "  \n",
    "\n",
    "for linha in lista_linhas:\n",
    "    if linha_listas == \"\\n\":\n",
    "        linha_lista.remove()\n",
    "\n",
    "print(lista_linhas)"
   ]
  },
  {
   "attachments": {},
   "cell_type": "markdown",
   "metadata": {},
   "source": [
    "- Abra o arquivo \"dados/a_luta_carmen_dolores_trecho.txt\" em modo append e adicione uma nova linha em seu conteúdo\n"
   ]
  },
  {
   "cell_type": "code",
   "execution_count": null,
   "metadata": {},
   "outputs": [],
   "source": []
  },
  {
   "attachments": {},
   "cell_type": "markdown",
   "metadata": {},
   "source": [
    "- Copie o conteúdo do arquivo \"dados/a_luta_carmen_dolores_trecho.txt\" para um novo arquivo\n"
   ]
  }
 ],
 "metadata": {
  "kernelspec": {
   "display_name": ".venv",
   "language": "python",
   "name": "python3"
  },
  "language_info": {
   "codemirror_mode": {
    "name": "ipython",
    "version": 3
   },
   "file_extension": ".py",
   "mimetype": "text/x-python",
   "name": "python",
   "nbconvert_exporter": "python",
   "pygments_lexer": "ipython3",
   "version": "3.11.9"
  },
  "orig_nbformat": 4
 },
 "nbformat": 4,
 "nbformat_minor": 2
}
