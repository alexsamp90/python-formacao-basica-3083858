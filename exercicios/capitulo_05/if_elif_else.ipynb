{
 "cells": [
  {
   "attachments": {},
   "cell_type": "markdown",
   "metadata": {},
   "source": [
    "- Crie uma lista com 30 dados do tipo numérico\n"
   ]
  },
  {
   "cell_type": "code",
   "execution_count": 6,
   "metadata": {},
   "outputs": [],
   "source": [
    "dezenas = list(range(10, 310,10))\n"
   ]
  },
  {
   "attachments": {},
   "cell_type": "markdown",
   "metadata": {},
   "source": [
    "- Dentro de um for loop, crie uma estrutura condicional que imprima na tela o número, caso ele seja maior do que 20. Se o número for 20, imprima 'Esse número é igual a 20.’ e se for maior do que 20, imprima ‘Esse número é maior do que 20.’\n"
   ]
  },
  {
   "cell_type": "code",
   "execution_count": 26,
   "metadata": {},
   "outputs": [
    {
     "name": "stdout",
     "output_type": "stream",
     "text": [
      "O NUMERO 10 NÃO ATENDE NENHUMA DAS CONDIÇÕES\n",
      "\n",
      "Esse numero é igual a 20\n",
      "\n",
      "30\n",
      "Esse número é maior do que 20.\n",
      "\n",
      "40\n",
      "Esse número é maior do que 20.\n",
      "\n",
      "50\n",
      "Esse número é maior do que 20.\n",
      "\n",
      "60\n",
      "Esse número é maior do que 20.\n",
      "\n",
      "70\n",
      "Esse número é maior do que 20.\n",
      "\n",
      "80\n",
      "Esse número é maior do que 20.\n",
      "\n",
      "90\n",
      "Esse número é maior do que 20.\n",
      "\n",
      "100\n",
      "Esse número é maior do que 20.\n",
      "\n",
      "110\n",
      "Esse número é maior do que 20.\n",
      "\n",
      "120\n",
      "Esse número é maior do que 20.\n",
      "\n",
      "130\n",
      "Esse número é maior do que 20.\n",
      "\n",
      "140\n",
      "Esse número é maior do que 20.\n",
      "\n",
      "150\n",
      "Esse número é maior do que 20.\n",
      "\n",
      "160\n",
      "Esse número é maior do que 20.\n",
      "\n",
      "170\n",
      "Esse número é maior do que 20.\n",
      "\n",
      "180\n",
      "Esse número é maior do que 20.\n",
      "\n",
      "190\n",
      "Esse número é maior do que 20.\n",
      "\n",
      "200\n",
      "Esse número é maior do que 20.\n",
      "\n",
      "210\n",
      "Esse número é maior do que 20.\n",
      "\n",
      "220\n",
      "Esse número é maior do que 20.\n",
      "\n",
      "230\n",
      "Esse número é maior do que 20.\n",
      "\n",
      "240\n",
      "Esse número é maior do que 20.\n",
      "\n",
      "250\n",
      "Esse número é maior do que 20.\n",
      "\n",
      "260\n",
      "Esse número é maior do que 20.\n",
      "\n",
      "270\n",
      "Esse número é maior do que 20.\n",
      "\n",
      "280\n",
      "Esse número é maior do que 20.\n",
      "\n",
      "290\n",
      "Esse número é maior do que 20.\n",
      "\n",
      "300\n",
      "Esse número é maior do que 20.\n",
      "\n"
     ]
    }
   ],
   "source": [
    "for numero in dezenas:\n",
    "    if numero == 20:\n",
    "            print('Esse numero é igual a 20')\n",
    "            print('')\n",
    "    elif numero > 20:\n",
    "        print(numero)\n",
    "        print('Esse número é maior do que 20.')\n",
    "        print('')\n",
    "    else:\n",
    "         print(f'O NUMERO {(numero)} NÃO ATENDE NENHUMA DAS CONDIÇÕES')\n",
    "         print('')\n",
    "        "
   ]
  },
  {
   "attachments": {},
   "cell_type": "markdown",
   "metadata": {},
   "source": [
    "- Crie as seguintes variáveis contendo listas vazias: ate_12, entre_13_e_20, maior_21"
   ]
  },
  {
   "cell_type": "code",
   "execution_count": 27,
   "metadata": {},
   "outputs": [],
   "source": [
    "ate_12 = []\n",
    "entre_13_e_20 = []\n",
    "maior_21 = []"
   ]
  },
  {
   "attachments": {},
   "cell_type": "markdown",
   "metadata": {},
   "source": [
    "- Dentro de um for loop, crie uma estrutura condicional que distribua em cada lista os números seguindo as condições abaixo: \n",
    "1. se o número for menor do que 12, armazene-o na lista ate_12\n",
    "2. se o número estiver entre 13 e 20, amazene-o na lista entre_13_e_20\n",
    "3. se o número for maior do 21, armazene-o na lista maior_21\n",
    "\n"
   ]
  },
  {
   "cell_type": "code",
   "execution_count": 28,
   "metadata": {},
   "outputs": [],
   "source": [
    "for numero in dezenas:\n",
    "    if numero <= 12:\n",
    "        ate_12.append(numero)\n",
    "    elif numero >= 13 and numero <=20:\n",
    "        entre_13_e_20.append(numero)\n",
    "    else:\n",
    "        maior_21.append(numero)    "
   ]
  },
  {
   "cell_type": "code",
   "execution_count": 30,
   "metadata": {},
   "outputs": [
    {
     "name": "stdout",
     "output_type": "stream",
     "text": [
      "[10]\n",
      "[20]\n",
      "[30, 40, 50, 60, 70, 80, 90, 100, 110, 120, 130, 140, 150, 160, 170, 180, 190, 200, 210, 220, 230, 240, 250, 260, 270, 280, 290, 300]\n"
     ]
    }
   ],
   "source": [
    "print(ate_12)\n",
    "print(entre_13_e_20)\n",
    "print(maior_21)"
   ]
  }
 ],
 "metadata": {
  "kernelspec": {
   "display_name": ".venv",
   "language": "python",
   "name": "python3"
  },
  "language_info": {
   "codemirror_mode": {
    "name": "ipython",
    "version": 3
   },
   "file_extension": ".py",
   "mimetype": "text/x-python",
   "name": "python",
   "nbconvert_exporter": "python",
   "pygments_lexer": "ipython3",
   "version": "3.11.9"
  },
  "orig_nbformat": 4
 },
 "nbformat": 4,
 "nbformat_minor": 2
}
