{
 "cells": [
  {
   "attachments": {},
   "cell_type": "markdown",
   "metadata": {},
   "source": [
    "- Crie uma lista\n"
   ]
  },
  {
   "cell_type": "code",
   "execution_count": 20,
   "metadata": {},
   "outputs": [],
   "source": [
    "lista = [33, 1, 2, 4, 8, 16, 33, 36]"
   ]
  },
  {
   "attachments": {},
   "cell_type": "markdown",
   "metadata": {},
   "source": [
    "- Crie um for loop para imprimir na tela todos os elementos da lista\n"
   ]
  },
  {
   "cell_type": "code",
   "execution_count": 21,
   "metadata": {},
   "outputs": [
    {
     "name": "stdout",
     "output_type": "stream",
     "text": [
      "33\n",
      "1\n",
      "2\n",
      "4\n",
      "8\n",
      "16\n",
      "33\n",
      "36\n"
     ]
    }
   ],
   "source": [
    "for numero in lista:\n",
    "    print(numero)"
   ]
  },
  {
   "attachments": {},
   "cell_type": "markdown",
   "metadata": {},
   "source": [
    "- Crie um for loop usando o recurso \"continue\"\n"
   ]
  },
  {
   "cell_type": "code",
   "execution_count": 23,
   "metadata": {},
   "outputs": [
    {
     "name": "stdout",
     "output_type": "stream",
     "text": [
      "BURRA!\n",
      "1\n",
      "Numero par\n",
      "2\n",
      "Numero par\n",
      "4\n",
      "Numero par\n",
      "8\n",
      "Numero par\n",
      "16\n"
     ]
    }
   ],
   "source": [
    "for numero in lista:\n",
    "    if numero % 3 == 0:\n",
    "        continue\n",
    "    elif numero % 2 == 0:\n",
    "        print('Numero par')\n",
    "    else:\n",
    "        print('BURRA!')\n",
    "    print(numero)    "
   ]
  },
  {
   "attachments": {},
   "cell_type": "markdown",
   "metadata": {},
   "source": [
    "- Crie um for loop usando o recurso \"break\"\n"
   ]
  },
  {
   "cell_type": "code",
   "execution_count": 28,
   "metadata": {},
   "outputs": [
    {
     "name": "stdout",
     "output_type": "stream",
     "text": [
      "Numero par\n",
      "2\n"
     ]
    }
   ],
   "source": [
    "lista2 = [2, 3, 6, 9, 10, 14]\n",
    "\n",
    "for numero in lista2:\n",
    "    if numero % 3 == 0:\n",
    "        break\n",
    "    elif numero % 2 == 0:\n",
    "        print('Numero par')\n",
    "    else:\n",
    "        print('BURRA!')\n",
    "    print(numero)\n",
    "else:\n",
    "    print('fim', numero)"
   ]
  },
  {
   "attachments": {},
   "cell_type": "markdown",
   "metadata": {},
   "source": [
    "- Crie um for loop usando o \"else\"\n"
   ]
  }
 ],
 "metadata": {
  "kernelspec": {
   "display_name": ".venv",
   "language": "python",
   "name": "python3"
  },
  "language_info": {
   "codemirror_mode": {
    "name": "ipython",
    "version": 3
   },
   "file_extension": ".py",
   "mimetype": "text/x-python",
   "name": "python",
   "nbconvert_exporter": "python",
   "pygments_lexer": "ipython3",
   "version": "3.11.9"
  },
  "orig_nbformat": 4
 },
 "nbformat": 4,
 "nbformat_minor": 2
}
