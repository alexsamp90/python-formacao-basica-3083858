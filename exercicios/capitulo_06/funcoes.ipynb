{
 "cells": [
  {
   "attachments": {},
   "cell_type": "markdown",
   "metadata": {},
   "source": [
    "- Crie uma função que receba como argumento 2 números e 1 operação matemática\n"
   ]
  },
  {
   "cell_type": "code",
   "execution_count": 2,
   "metadata": {},
   "outputs": [
    {
     "data": {
      "text/plain": [
       "(1, 2, 'soma')"
      ]
     },
     "execution_count": 2,
     "metadata": {},
     "output_type": "execute_result"
    }
   ],
   "source": [
    "def operacao(num1, num2, operacao):\n",
    "    return num1, num2, operacao\n",
    "\n",
    "operacao(1, 2, 'soma')"
   ]
  },
  {
   "attachments": {},
   "cell_type": "markdown",
   "metadata": {},
   "source": [
    "- Implemente as funções de soma e multiplicação, nessa função\n"
   ]
  },
  {
   "cell_type": "code",
   "execution_count": 10,
   "metadata": {},
   "outputs": [],
   "source": [
    "def operacao(num1 = 1, num2 = 3, operacao = 'soma'):\n",
    "    if num1 == num2 and operacao == 'subtracao':\n",
    "        return print('Erro')\n",
    "    elif num1 < num2 and operacao == 'divisao':\n",
    "        return print('Erro')\n",
    "    elif num1 <= num2 and operacao == 'multiplicacao':\n",
    "        print(num1 * num2)\n",
    "\n",
    "operacao()"
   ]
  },
  {
   "attachments": {},
   "cell_type": "markdown",
   "metadata": {},
   "source": [
    "- Modifique a função para que receba uma quantidade de argumentos não previsível e os imprima na tela\n"
   ]
  },
  {
   "cell_type": "code",
   "execution_count": 15,
   "metadata": {},
   "outputs": [
    {
     "data": {
      "text/plain": [
       "((1, 2, 3, 4), {'operaçao': 'soma', 'animal': 'cao'})"
      ]
     },
     "execution_count": 15,
     "metadata": {},
     "output_type": "execute_result"
    }
   ],
   "source": [
    "def operacao(*numeros, **kwargs):\n",
    "   return numeros, kwargs\n",
    "\n",
    "operacao(1, 2, 3, 4, operaçao='soma', animal='cao')"
   ]
  },
  {
   "attachments": {},
   "cell_type": "markdown",
   "metadata": {},
   "source": [
    "- Use a biblioteca math para otimizar a função\n"
   ]
  },
  {
   "cell_type": "code",
   "execution_count": null,
   "metadata": {},
   "outputs": [],
   "source": [
    "import math\n",
    "\n",
    "def operacao(num1 = 1, num2 = 3, operacao = 'soma'):\n",
    "    if num1 == num2 and operacao == 'subtracao':\n",
    "        return print('Erro')\n",
    "    elif num1 < num2 and operacao == 'divisao':\n",
    "        return print('Erro')\n",
    "    elif num1 <= num2 and operacao == 'multiplicacao':\n",
    "        print(num1 * num2)"
   ]
  },
  {
   "attachments": {},
   "cell_type": "markdown",
   "metadata": {},
   "source": [
    "- Escreva uma função do tipo lambda"
   ]
  },
  {
   "cell_type": "code",
   "execution_count": 21,
   "metadata": {},
   "outputs": [
    {
     "name": "stdout",
     "output_type": "stream",
     "text": [
      "6\n"
     ]
    }
   ],
   "source": [
    "multi = lambda x,y: print(x * y)\n",
    "\n",
    "multi(2, 3)"
   ]
  }
 ],
 "metadata": {
  "kernelspec": {
   "display_name": ".venv",
   "language": "python",
   "name": "python3"
  },
  "language_info": {
   "codemirror_mode": {
    "name": "ipython",
    "version": 3
   },
   "file_extension": ".py",
   "mimetype": "text/x-python",
   "name": "python",
   "nbconvert_exporter": "python",
   "pygments_lexer": "ipython3",
   "version": "3.11.9"
  },
  "orig_nbformat": 4
 },
 "nbformat": 4,
 "nbformat_minor": 2
}
