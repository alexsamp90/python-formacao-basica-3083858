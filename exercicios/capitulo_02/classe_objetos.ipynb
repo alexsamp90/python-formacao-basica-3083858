{
 "cells": [
  {
   "cell_type": "markdown",
   "metadata": {},
   "source": [
    "- Crie uma classe com 3 atributos"
   ]
  },
  {
   "cell_type": "code",
   "execution_count": 1,
   "metadata": {},
   "outputs": [],
   "source": [
    "class Futuroemprego:\n",
    "    def __init__(self, cidade = 'Porto', salario = 50000, modalidade = 'presencial'):\n",
    "        self.cidade = cidade\n",
    "        self.salario = salario\n",
    "        self.modalidade = modalidade\n",
    "\n",
    "    def descricao(self):\n",
    "        print('Meu futuro emprego será em ' + self.cidade + ' com um salário de ' + str(self.salario) + ' e a modalidade de trabalho será ' + self.modalidade)\n",
    "    \n"
   ]
  },
  {
   "cell_type": "markdown",
   "metadata": {},
   "source": [
    "- Defina um método para a classe"
   ]
  },
  {
   "cell_type": "code",
   "execution_count": 15,
   "metadata": {},
   "outputs": [],
   "source": [
    "class Futura_casa:\n",
    "    def __init__(self, tamanho = '125', localizacao = 'Poblenou', andar = 'cobertura'):\n",
    "        self.tamanho = tamanho\n",
    "        self.localizacao = localizacao\n",
    "        self.andar = andar\n",
    "\n",
    "    def descr(self):\n",
    "        print('Minha futura casa terá '+ self.tamanho + 'm2', 'localizada em ' + self.localizacao + 'e estará na ' + self.andar )\n"
   ]
  },
  {
   "cell_type": "code",
   "execution_count": 20,
   "metadata": {},
   "outputs": [
    {
     "name": "stdout",
     "output_type": "stream",
     "text": [
      "Minha futura casa terá 125m2 localizada em Poblenoue estará na cobertura\n",
      "Minha futura casa terá 200m2 localizada em Montjuic e estará na 8º\n"
     ]
    }
   ],
   "source": [
    "casa = Futura_casa()\n",
    "casa1 = Futura_casa('200', 'Montjuic ', '8º')\n",
    "\n",
    "casa.descr()\n",
    "casa1.descr()"
   ]
  },
  {
   "cell_type": "markdown",
   "metadata": {},
   "source": [
    "- Instancie a classe"
   ]
  },
  {
   "cell_type": "code",
   "execution_count": 36,
   "metadata": {},
   "outputs": [],
   "source": [
    "meu_emprego = Futuroemprego()\n",
    "meu_futuro_emprego = Futuroemprego('Barcelona', 60000, 'remoto')\n"
   ]
  },
  {
   "cell_type": "markdown",
   "metadata": {},
   "source": [
    "- Execute o método"
   ]
  },
  {
   "cell_type": "code",
   "execution_count": 37,
   "metadata": {},
   "outputs": [
    {
     "name": "stdout",
     "output_type": "stream",
     "text": [
      "Meu futuro emprego será em Porto com um salário de 50000 e a modalidade de trabalho será presencial\n",
      "Meu futuro emprego será em Barcelona com um salário de 60000 e a modalidade de trabalho será remoto\n"
     ]
    }
   ],
   "source": [
    "meu_emprego.descricao()\n",
    "meu_futuro_emprego.descricao()"
   ]
  }
 ],
 "metadata": {
  "kernelspec": {
   "display_name": ".venv",
   "language": "python",
   "name": "python3"
  },
  "language_info": {
   "codemirror_mode": {
    "name": "ipython",
    "version": 3
   },
   "file_extension": ".py",
   "mimetype": "text/x-python",
   "name": "python",
   "nbconvert_exporter": "python",
   "pygments_lexer": "ipython3",
   "version": "3.11.9"
  },
  "orig_nbformat": 4
 },
 "nbformat": 4,
 "nbformat_minor": 2
}
