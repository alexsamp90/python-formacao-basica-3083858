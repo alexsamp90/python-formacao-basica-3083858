{
 "cells": [
  {
   "attachments": {},
   "cell_type": "markdown",
   "metadata": {},
   "source": [
    "- Crie tratamento para as exceções: ZeroDivisionError e TypeError usando a sintaxe try...except...finally\n"
   ]
  },
  {
   "cell_type": "code",
   "execution_count": 1,
   "metadata": {},
   "outputs": [],
   "source": [
    "from random import random, randrange"
   ]
  },
  {
   "cell_type": "code",
   "execution_count": 3,
   "metadata": {},
   "outputs": [
    {
     "name": "stdout",
     "output_type": "stream",
     "text": [
      "A divisão por ZERO não é possível\n",
      "A divisão será feita por 0.3744099648499023\n",
      "0.3744099648499023\n",
      "FIM\n"
     ]
    }
   ],
   "source": [
    "try:\n",
    "    x = random() / 0\n",
    "    print(x)\n",
    "\n",
    "except ZeroDivisionError:\n",
    "    print('A divisão por ZERO não é possível')\n",
    "    y = random()\n",
    "    print(f'A divisão será feita por {y}')\n",
    "    x = random() / y\n",
    "    print(y)\n",
    "\n",
    "finally:\n",
    "    print('FIM')"
   ]
  }
 ],
 "metadata": {
  "kernelspec": {
   "display_name": ".venv",
   "language": "python",
   "name": "python3"
  },
  "language_info": {
   "codemirror_mode": {
    "name": "ipython",
    "version": 3
   },
   "file_extension": ".py",
   "mimetype": "text/x-python",
   "name": "python",
   "nbconvert_exporter": "python",
   "pygments_lexer": "ipython3",
   "version": "3.11.9"
  },
  "orig_nbformat": 4
 },
 "nbformat": 4,
 "nbformat_minor": 2
}
