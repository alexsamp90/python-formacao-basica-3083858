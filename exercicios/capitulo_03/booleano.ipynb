{
 "cells": [
  {
   "attachments": {},
   "cell_type": "markdown",
   "metadata": {},
   "source": [
    "- Declare uma variável do tipo lista com 4 elementos"
   ]
  },
  {
   "cell_type": "code",
   "execution_count": 7,
   "metadata": {},
   "outputs": [],
   "source": [
    "dias_da_semana = ['lunes', '', 'martes', 'miercoles', False, 'jueves', None, 'viernes']"
   ]
  },
  {
   "attachments": {},
   "cell_type": "markdown",
   "metadata": {},
   "source": [
    "- Crie um for loop que passe por todos os itens da lista e imprima o item\n"
   ]
  },
  {
   "cell_type": "code",
   "execution_count": 14,
   "metadata": {},
   "outputs": [
    {
     "name": "stdout",
     "output_type": "stream",
     "text": [
      "O dia da semana é:  lunes\n",
      "Dia da semana inexistente --> \n",
      "O dia da semana é:  martes\n",
      "O dia da semana é:  miercoles\n",
      "Dia da semana inexistente --> False\n",
      "O dia da semana é:  jueves\n",
      "Dia da semana inexistente --> None\n",
      "O dia da semana é:  viernes\n"
     ]
    }
   ],
   "source": [
    "for dias in dias_da_semana:\n",
    "    if bool(dias) == True:\n",
    "        print('O dia da semana é: ', dias)\n",
    "    else:\n",
    "        print('Dia da semana inexistente -->', dias)"
   ]
  }
 ],
 "metadata": {
  "kernelspec": {
   "display_name": ".venv",
   "language": "python",
   "name": "python3"
  },
  "language_info": {
   "codemirror_mode": {
    "name": "ipython",
    "version": 3
   },
   "file_extension": ".py",
   "mimetype": "text/x-python",
   "name": "python",
   "nbconvert_exporter": "python",
   "pygments_lexer": "ipython3",
   "version": "3.11.9"
  },
  "orig_nbformat": 4
 },
 "nbformat": 4,
 "nbformat_minor": 2
}
